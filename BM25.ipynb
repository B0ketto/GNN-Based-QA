{
 "cells": [
  {
   "cell_type": "code",
   "execution_count": 1,
   "id": "f67bd503-7486-49d3-95a4-95e9a5d866f3",
   "metadata": {},
   "outputs": [
    {
     "name": "stdout",
     "output_type": "stream",
     "text": [
      "\u001b[33mWARNING: Running pip as the 'root' user can result in broken permissions and conflicting behaviour with the system package manager, possibly rendering your system unusable.It is recommended to use a virtual environment instead: https://pip.pypa.io/warnings/venv. Use the --root-user-action option if you know what you are doing and want to suppress this warning.\u001b[0m\u001b[33m\n",
      "\u001b[0m\n",
      "\u001b[1m[\u001b[0m\u001b[34;49mnotice\u001b[0m\u001b[1;39;49m]\u001b[0m\u001b[39;49m A new release of pip is available: \u001b[0m\u001b[31;49m24.3.1\u001b[0m\u001b[39;49m -> \u001b[0m\u001b[32;49m25.0.1\u001b[0m\n",
      "\u001b[1m[\u001b[0m\u001b[34;49mnotice\u001b[0m\u001b[1;39;49m]\u001b[0m\u001b[39;49m To update, run: \u001b[0m\u001b[32;49mpython3.10 -m pip install --upgrade pip\u001b[0m\n"
     ]
    }
   ],
   "source": [
    "!pip install rank_bm25 nltk rouge-score tqdm --quiet"
   ]
  },
  {
   "cell_type": "code",
   "execution_count": 1,
   "id": "6e3e1750-b5e4-4c19-b1ad-5296c8ab474b",
   "metadata": {},
   "outputs": [
    {
     "name": "stderr",
     "output_type": "stream",
     "text": [
      "[nltk_data] Downloading package punkt_tab to /root/nltk_data...\n",
      "[nltk_data]   Package punkt_tab is already up-to-date!\n"
     ]
    }
   ],
   "source": [
    "import json\n",
    "import os\n",
    "import nltk\n",
    "from rank_bm25 import BM25Okapi\n",
    "from nltk.tokenize import word_tokenize\n",
    "from rouge_score import rouge_scorer\n",
    "import numpy as np\n",
    "from tqdm.notebook import tqdm\n",
    "import torch\n",
    "nltk.download('punkt_tab')\n",
    "os.environ[\"CUDA_VISIBLE_DEVICES\"] = \"3\""
   ]
  },
  {
   "cell_type": "code",
   "execution_count": null,
   "id": "34c0b5b1-131c-49aa-a365-7a19fca3a817",
   "metadata": {},
   "outputs": [
    {
     "data": {
      "text/plain": [
       "{'_id': '8813f87c0bdd11eba7f7acde48001122',\n",
       " 'type': 'compositional',\n",
       " 'question': 'Who is the mother of the director of film Polish-Russian War (Film)?',\n",
       " 'context': [['Maheen Khan',\n",
       "   ['Maheen Khan is a Pakistani fashion and costume designer, also an award winner fashion designer for fashion labels like\" The Embroidery HouseMaheen\" and\" Gulabo\".',\n",
       "    'She has done many national and international fashion events and shows.',\n",
       "    'She undertook embroidery for the film Snow White and the Huntsman and television series',\n",
       "    'The Jewel in the Crown.']],\n",
       "  ['Viktor Yeliseyev',\n",
       "   ['Viktor Petrovich Yeliseyev( born June 9, 1950) is a Russian general, orchestra conductor and music teacher.',\n",
       "    'He is the director of the Ministry of the Interior Ensemble, one of the two Russian Red Army Choirs.']],\n",
       "  ['Alice Washburn',\n",
       "   ['Alice Washburn( 1860- 1929) was an American stage and film actress.',\n",
       "    'She worked at the Edison, Vitagraph and Kalem studios.',\n",
       "    'Her final film Snow White was her only known feature film.',\n",
       "    'She died of heart attack in November 1929.']],\n",
       "  ['Minamoto no Chikako', ['She was the mother of Prince Morinaga.']],\n",
       "  ['Polish-Russian War (film)',\n",
       "   ['Polish-Russian War',\n",
       "    '(Wojna polsko-ruska) is a 2009 Polish film directed by Xawery Żuławski based on the novel Polish-Russian War under the white-red flag by Dorota Masłowska.']],\n",
       "  ['A Snow White Christmas',\n",
       "   ['A Snow White Christmas is a Christmas animated television special produced by Filmation and telecast December 19, 1980, on CBS.',\n",
       "    'It is a sequel to the fairy tale\" Snow White\", unrelated to Filmation\\'s other sequel to\" Snow White\" titled\" Happily Ever After\"( 1990).',\n",
       "    \"The film's plot revolves around the return of the Wicked Queen, who is unexpectedly brought back to life during Christmas and casts an evil spell that freezes the entire land.\",\n",
       "    'Only the young Snow White, the daughter of the original Snow White, manages to escape and take refuge with the seven giants with her dwarf friend.',\n",
       "    'It is now up to the giants to defeat the Queen forever and save the kingdom.']],\n",
       "  ['Snow White and the Three Stooges',\n",
       "   ['Snow White and the Three Stooges is the second feature film to star the Three Stooges after their 1959 resurgence in popularity.',\n",
       "    'By this time, the trio consisted of Moe Howard, Larry Fine, and Joe DeRita( dubbed\" Curly Joe\").',\n",
       "    'Released by 20th Century Fox, this was the trio\\'s take on the classic fairy tale\" Snow White and the Seven Dwarfs\".',\n",
       "    'The film was retitled Snow White and the Three Clowns in Great Britain.',\n",
       "    'This was Walter Lang ‘s final directing film before his retirement.',\n",
       "    'Olympic gold medalist figure skater Carol Heiss starred as Snow White, who must flee her home after The Evil Queen, her evil stepmother, wishes her to be dead.',\n",
       "    'Seeking refuge in the cottage of the seven dwarfs, she accidentally meets the Stooges, who are house sitting for them while they are away.']],\n",
       "  ['Xawery Żuławski',\n",
       "   ['Xawery Żuławski (born 22 December 1971 in Warsaw) is a Polish film director.',\n",
       "    'In 1995 he graduated National Film School in Łódź.',\n",
       "    'He is the son of actress Małgorzata Braunek and director Andrzej Żuławski.',\n",
       "    'His second feature \"Wojna polsko-ruska\" (2009), adapted from the controversial best-selling novel by Dorota Masłowska, won First Prize in the New Polish Films competition at the 9th Era New Horizons Film Festival in Wrocław.',\n",
       "    'In 2013, he stated he intends to direct a Polish novel \"Zły\" by Leopold Tyrmand.',\n",
       "    'Żuławski and his wife Maria Strzelecka had 2 children together:',\n",
       "    'son Kaj Żuławski (born 2002) and daughter Jagna Żuławska (born 2009).']],\n",
       "  ['Snow White and the Seven Dwarfs (1955 film)',\n",
       "   ['Snow White and the Seven Dwarfs( USA:\" Snow White\") is a 1955 German film, directed by Erich Kobler, based on the story of Schneewittchen by the Brothers Grimm.']],\n",
       "  ['Liberty Ross',\n",
       "   ['Liberty Lettice Lark Ross( born 23 September 1978) is an English model and actress.',\n",
       "    'She has appeared in publications such as\" VogueHarper\\'s Bazaari- D\", and\" Dazed& Confused\".',\n",
       "    'She played the role of Queen Eleanor in the 2012 fantasy film\" Snow White and the Huntsman\", directed by her then- husband, Rupert Sanders.',\n",
       "    'She is the sister of composers Atticus and Leopold Ross.']]],\n",
       " 'supporting_facts': [['Polish-Russian War (film)', 1],\n",
       "  ['Xawery Żuławski', 2]],\n",
       " 'evidences': [['Polish-Russian War', 'director', 'Xawery Żuławski'],\n",
       "  ['Xawery Żuławski', 'mother', 'Małgorzata Braunek']],\n",
       " 'answer': 'Małgorzata Braunek'}"
      ]
     },
     "execution_count": 2,
     "metadata": {},
     "output_type": "execute_result"
    }
   ],
   "source": [
    "\n",
    "with open(\"data/dev.json\") as f:\n",
    "    data = json.load(f)\n",
    "    \n",
    "\n",
    "data[0]\n"
   ]
  },
  {
   "cell_type": "code",
   "execution_count": 3,
   "id": "ab116337-77b8-4554-8b08-c5f001b39223",
   "metadata": {},
   "outputs": [],
   "source": [
    "def prepare_corpus(context):\n",
    "    corpus = []\n",
    "    doc_map = []\n",
    "    for title, sentences in context:\n",
    "        doc_text = ' '.join(sentences)\n",
    "        corpus.append(word_tokenize(doc_text.lower()))\n",
    "        doc_map.append((title, doc_text))\n",
    "    return corpus, doc_map\n",
    "\n",
    "def retrieve_top_k(question, context, k=5):\n",
    "    corpus_tokens, doc_map = prepare_corpus(context)\n",
    "    bm25 = BM25Okapi(corpus_tokens)\n",
    "    question_tokens = word_tokenize(question.lower())\n",
    "    scores = bm25.get_scores(question_tokens)\n",
    "    top_k_indices = sorted(range(len(scores)), key=lambda i: scores[i], reverse=True)[:k]\n",
    "    return [doc_map[i] for i in top_k_indices]\n"
   ]
  },
  {
   "cell_type": "code",
   "execution_count": 4,
   "id": "7498a965-33e2-400b-a03b-d534e5047b70",
   "metadata": {},
   "outputs": [],
   "source": [
    "def compute_f1(pred_titles, gold_titles):\n",
    "    pred_set = set(pred_titles)\n",
    "    gold_set = set(gold_titles)\n",
    "    if not pred_set and not gold_set:\n",
    "        return 1.0\n",
    "    if not pred_set or not gold_set:\n",
    "        return 0.0\n",
    "    tp = len(pred_set & gold_set)\n",
    "    precision = tp / len(pred_set) if pred_set else 0\n",
    "    recall = tp / len(gold_set) if gold_set else 0\n",
    "    if precision + recall == 0:\n",
    "        return 0.0\n",
    "    return 2 * precision * recall / (precision + recall)\n",
    "\n",
    "def compute_mrr(pred_titles, gold_titles):\n",
    "    for rank, title in enumerate(pred_titles, start=1):\n",
    "        if title in gold_titles:\n",
    "            return 1.0 / rank\n",
    "    return 0.0\n"
   ]
  },
  {
   "cell_type": "code",
   "execution_count": 5,
   "id": "0df002b4-11eb-417b-975a-9e6684ea0317",
   "metadata": {},
   "outputs": [],
   "source": [
    "import json\n",
    "import torch\n",
    "from nltk.tokenize import word_tokenize\n",
    "from rank_bm25 import BM25Okapi\n",
    "from transformers import AutoTokenizer, AutoModelForSeq2SeqLM\n",
    "from rouge_score import rouge_scorer\n",
    "from sklearn.metrics import f1_score\n",
    "\n",
    "device = \"cuda\" if torch.cuda.is_available() else \"cpu\"\n",
    "\n",
    "# Load FLAN-T5\n",
    "tokenizer = AutoTokenizer.from_pretrained(\"google/flan-t5-base\")\n",
    "model = AutoModelForSeq2SeqLM.from_pretrained(\"google/flan-t5-base\").to(device)\n"
   ]
  },
  {
   "cell_type": "code",
   "execution_count": 6,
   "id": "197e1337-da88-4ef9-ac8d-49b83593bf85",
   "metadata": {},
   "outputs": [
    {
     "data": {
      "application/vnd.jupyter.widget-view+json": {
       "model_id": "1cbd7ced5fae4526b7230acfe961a959",
       "version_major": 2,
       "version_minor": 0
      },
      "text/plain": [
       "  0%|          | 0/12576 [00:00<?, ?it/s]"
      ]
     },
     "metadata": {},
     "output_type": "display_data"
    }
   ],
   "source": [
    "f1s, mrrs, rouge_scores, f1_scores = [], [], [], []\n",
    "rouge = rouge_scorer.RougeScorer(['rougeL'], use_stemmer=True)\n",
    "\n",
    "def generate_answer(question, retrieved_docs, max_len=512):\n",
    "    context_text = \" \".join([doc for  _, doc in retrieved_docs])\n",
    "    prompt = f\"question: {question} context: {context_text}\"\n",
    "\n",
    "    inputs = tokenizer(prompt, return_tensors=\"pt\", max_length=max_len, truncation=True).to(device)\n",
    "    outputs = model.generate(**inputs, max_new_tokens=64)\n",
    "    return tokenizer.decode(outputs[0], skip_special_tokens=True)\n",
    "\n",
    "for item in tqdm(data):\n",
    "    question = item[\"question\"]\n",
    "    context = item[\"context\"]\n",
    "    gold_titles = [title for title, _ in item[\"supporting_facts\"]]\n",
    "    gold_answer = item[\"answer\"]\n",
    "\n",
    "    top_docs = retrieve_top_k(question, context, k=5)\n",
    "    pred_titles = [title for title, _ in top_docs]\n",
    "    pred_answer= generate_answer(question, top_docs)\n",
    "    f1s.append(compute_f1(pred_titles, gold_titles))\n",
    "    mrrs.append(compute_mrr(pred_titles, gold_titles))\n",
    "    f1_scores.append(compute_f1(pred_answer, gold_answer))\n",
    "    rouge_scores.append(rouge.score(gold_answer,pred_answer)[\"rougeL\"].fmeasure)\n"
   ]
  },
  {
   "cell_type": "code",
   "execution_count": 8,
   "id": "7be52d01-631a-4bc6-abe3-f314f89d4bba",
   "metadata": {},
   "outputs": [
    {
     "name": "stdout",
     "output_type": "stream",
     "text": [
      "Retrieval F1: 0.4841\n",
      "Retrieval MRR: 0.8312\n",
      "Generation F1: 0.5669\n",
      "Generation ROUGE-L: 0.3340\n"
     ]
    }
   ],
   "source": [
    "print(f\"Retrieval F1: {np.mean(f1s):.4f}\")\n",
    "print(f\"Retrieval MRR: {np.mean(mrrs):.4f}\")\n",
    "print(f\"Generation F1: {sum(f1_scores)/len(f1_scores):.4f}\")\n",
    "print(f\"Generation ROUGE-L: {sum(rouge_scores)/len(rouge_scores):.4f}\")\n",
    "# print(f\"Generation ROUGE-L (dummy): {np.mean(rouge_scores):.4f}\")\n"
   ]
  },
  {
   "cell_type": "code",
   "execution_count": 27,
   "id": "8193a10d-95f5-4742-b8ae-6bfcde51774d",
   "metadata": {},
   "outputs": [],
   "source": [
    "def prepare_corpus(context):\n",
    "    doc_texts, corpus_tokens, doc_map = [], [], []\n",
    "    for title, sentences in context:\n",
    "        text = \" \".join(sentences)\n",
    "        doc_texts.append(text)\n",
    "        corpus_tokens.append(word_tokenize(text.lower()))\n",
    "        doc_map.append(title)\n",
    "    return corpus_tokens, doc_texts, doc_map\n",
    "\n",
    "def retrieve_top_k(question, context, k=5):\n",
    "    corpus_tokens, doc_texts, doc_titles = prepare_corpus(context)\n",
    "    bm25 = BM25Okapi(corpus_tokens)\n",
    "    q_tokens = word_tokenize(question.lower())\n",
    "    scores = bm25.get_scores(q_tokens)\n",
    "    ranked = sorted(zip(scores, doc_titles, doc_texts), reverse=True)\n",
    "    return ranked[:k]\n"
   ]
  },
  {
   "cell_type": "code",
   "execution_count": 28,
   "id": "2599c8ec-5db5-4a6b-aa7a-4cdea1064083",
   "metadata": {},
   "outputs": [],
   "source": [
    "def generate_answer(question, retrieved_docs, max_len=512):\n",
    "    context_text = \" \".join([doc for _, _, doc in retrieved_docs])\n",
    "    prompt = f\"question: {question} context: {context_text}\"\n",
    "\n",
    "    inputs = tokenizer(prompt, return_tensors=\"pt\", max_length=max_len, truncation=True).to(device)\n",
    "    outputs = model.generate(**inputs, max_new_tokens=64)\n",
    "    return tokenizer.decode(outputs[0], skip_special_tokens=True)\n"
   ]
  },
  {
   "cell_type": "code",
   "execution_count": 29,
   "id": "fb9a33b3-01df-4470-85fd-44d385b10572",
   "metadata": {},
   "outputs": [],
   "source": [
    "def compute_f1(pred, gold):\n",
    "    pred_tokens = pred.lower().split()\n",
    "    gold_tokens = gold.lower().split()\n",
    "    common = set(pred_tokens) & set(gold_tokens)\n",
    "    if not common:\n",
    "        return 0.0\n",
    "    precision = len(common) / len(pred_tokens)\n",
    "    recall = len(common) / len(gold_tokens)\n",
    "    return 2 * precision * recall / (precision + recall)\n",
    "\n",
    "rouge = rouge_scorer.RougeScorer(['rougeL'], use_stemmer=True)\n"
   ]
  },
  {
   "cell_type": "code",
   "execution_count": 30,
   "id": "f26f5142-99b2-4a9f-ad90-9849c2cd4476",
   "metadata": {},
   "outputs": [
    {
     "name": "stdout",
     "output_type": "stream",
     "text": [
      " Generation F1: 0.2300\n",
      "Generation ROUGE-L: 0.2333\n"
     ]
    }
   ],
   "source": [
    "with open(\"data/train.json\") as f:\n",
    "    data = json.load(f)\n",
    "\n",
    "f1_scores = []\n",
    "rouge_scores = []\n",
    "\n",
    "for item in data[:20]:  # Limit for speed\n",
    "    question = item[\"question\"]\n",
    "    context = item[\"context\"]\n",
    "    gold_answer = item[\"answer\"]\n",
    "\n",
    "    top_docs = retrieve_top_k(question, context, k=5)\n",
    "    pred_answer = generate_answer(question, top_docs)\n",
    "\n",
    "    f1_scores.append(compute_f1(pred_answer, gold_answer))\n",
    "    rougeL = rouge.score(pred_answer, gold_answer)[\"rougeL\"].fmeasure\n",
    "    rouge_scores.append(rougeL)\n",
    "print(f\"Retrieval F1: {np.mean(f1s):.4f}\")\n",
    "print(f\"Retrieval MRR: {np.mean(mrrs):.4f}\")\n",
    "print(f\"Generation F1: {sum(f1_scores)/len(f1_scores):.4f}\")\n",
    "print(f\"Generation ROUGE-L: {sum(rouge_scores)/len(rouge_scores):.4f}\")\n"
   ]
  },
  {
   "cell_type": "code",
   "execution_count": null,
   "id": "89bef244-aa42-4f77-a835-b11eb0baea56",
   "metadata": {},
   "outputs": [],
   "source": []
  }
 ],
 "metadata": {
  "kernelspec": {
   "display_name": "Python 3 (ipykernel)",
   "language": "python",
   "name": "python3"
  },
  "language_info": {
   "codemirror_mode": {
    "name": "ipython",
    "version": 3
   },
   "file_extension": ".py",
   "mimetype": "text/x-python",
   "name": "python",
   "nbconvert_exporter": "python",
   "pygments_lexer": "ipython3",
   "version": "3.10.16"
  }
 },
 "nbformat": 4,
 "nbformat_minor": 5
}
